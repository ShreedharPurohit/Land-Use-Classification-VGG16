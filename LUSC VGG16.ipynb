{
  "cells": [
    {
      "cell_type": "code",
      "execution_count": 21,
      "metadata": {
        "id": "A8hg84EiA1xY"
      },
      "outputs": [],
      "source": [
        "import numpy as np\n",
        "from tensorflow.keras.applications.vgg16 import VGG16\n",
        "from tensorflow.keras.preprocessing.image import ImageDataGenerator\n",
        "from tensorflow.keras.models import Sequential\n",
        "from tensorflow.keras.layers import Dense, Flatten\n",
        "from tensorflow.keras.optimizers import Adam\n",
        "from sklearn.metrics import classification_report, confusion_matrix"
      ]
    },
    {
      "cell_type": "code",
      "execution_count": 22,
      "metadata": {
        "id": "BMYnM3HjCKHT"
      },
      "outputs": [],
      "source": [
        "IMAGE_WIDTH = 224\n",
        "IMAGE_HEIGHT = 224\n",
        "BATCH_SIZE = 32\n",
        "NUM_CLASSES = 21"
      ]
    },
    {
      "cell_type": "code",
      "execution_count": 23,
      "metadata": {
        "id": "Kl8tSg04CLec"
      },
      "outputs": [],
      "source": [
        "train_dir = 'train dataset'\n",
        "val_dir = 'validation dataset'\n",
        "test_dir = 'test dataset'"
      ]
    },
    {
      "cell_type": "code",
      "execution_count": 24,
      "metadata": {
        "colab": {
          "base_uri": "https://localhost:8080/"
        },
        "id": "UEhiOf-_CSnM",
        "outputId": "6b46f0a5-c2b6-4efc-aa7a-f122c15b6796"
      },
      "outputs": [
        {
          "name": "stdout",
          "output_type": "stream",
          "text": [
            "Found 7350 images belonging to 21 classes.\n",
            "Found 2100 images belonging to 21 classes.\n"
          ]
        }
      ],
      "source": [
        "train_datagen = ImageDataGenerator(rescale=1./255,\n",
        "                                   rotation_range=20,\n",
        "                                   width_shift_range=0.2,\n",
        "                                   height_shift_range=0.2,\n",
        "                                   horizontal_flip=True)\n",
        "\n",
        "val_datagen = ImageDataGenerator(rescale=1./255)\n",
        "\n",
        "train_generator = train_datagen.flow_from_directory(train_dir,\n",
        "                                                    target_size=(IMAGE_WIDTH, IMAGE_HEIGHT),\n",
        "                                                    batch_size=BATCH_SIZE,\n",
        "                                                    class_mode='categorical')\n",
        "\n",
        "val_generator = val_datagen.flow_from_directory(val_dir,\n",
        "                                                target_size=(IMAGE_WIDTH, IMAGE_HEIGHT),\n",
        "                                                batch_size=BATCH_SIZE,\n",
        "                                                class_mode='categorical')"
      ]
    },
    {
      "cell_type": "code",
      "execution_count": 25,
      "metadata": {
        "id": "OXTQI5OcCXNx"
      },
      "outputs": [],
      "source": [
        "base_model = VGG16(weights='imagenet', include_top=False, input_shape=(IMAGE_WIDTH, IMAGE_HEIGHT, 3))\n",
        "\n",
        "model = Sequential()\n",
        "model.add(base_model)\n",
        "model.add(Flatten())\n",
        "model.add(Dense(512, activation='relu'))\n",
        "model.add(Dense(NUM_CLASSES, activation='softmax'))\n",
        "\n",
        "model.compile(optimizer=Adam(learning_rate=0.0001),\n",
        "              loss='categorical_crossentropy',\n",
        "              metrics=['accuracy'])"
      ]
    },
    {
      "cell_type": "code",
      "execution_count": 26,
      "metadata": {
        "colab": {
          "base_uri": "https://localhost:8080/"
        },
        "id": "X68vbZVnCZD9",
        "outputId": "44c63cdf-574e-4773-c4e7-e6b3a2402b3e"
      },
      "outputs": [
        {
          "name": "stdout",
          "output_type": "stream",
          "text": [
            "Epoch 1/10\n",
            "229/229 [==============================] - 4518s 20s/step - loss: 1.3898 - accuracy: 0.5463 - val_loss: 0.6614 - val_accuracy: 0.7841\n",
            "Epoch 2/10\n",
            "229/229 [==============================] - 4818s 21s/step - loss: 0.5227 - accuracy: 0.8293 - val_loss: 0.3990 - val_accuracy: 0.8721\n",
            "Epoch 3/10\n",
            "229/229 [==============================] - 3599s 16s/step - loss: 0.3491 - accuracy: 0.8882 - val_loss: 0.2629 - val_accuracy: 0.9106\n",
            "Epoch 4/10\n",
            "229/229 [==============================] - 3490s 15s/step - loss: 0.2663 - accuracy: 0.9143 - val_loss: 0.2422 - val_accuracy: 0.9298\n",
            "Epoch 5/10\n",
            "229/229 [==============================] - 3568s 16s/step - loss: 0.1984 - accuracy: 0.9378 - val_loss: 0.4928 - val_accuracy: 0.8918\n",
            "Epoch 6/10\n",
            "229/229 [==============================] - 3549s 16s/step - loss: 0.1963 - accuracy: 0.9371 - val_loss: 0.1632 - val_accuracy: 0.9447\n",
            "Epoch 7/10\n",
            "229/229 [==============================] - 3537s 15s/step - loss: 0.1544 - accuracy: 0.9509 - val_loss: 0.1126 - val_accuracy: 0.9688\n",
            "Epoch 8/10\n",
            "229/229 [==============================] - 3526s 15s/step - loss: 0.1445 - accuracy: 0.9549 - val_loss: 0.1115 - val_accuracy: 0.9673\n",
            "Epoch 9/10\n",
            "229/229 [==============================] - 3435s 15s/step - loss: 0.1568 - accuracy: 0.9531 - val_loss: 0.1497 - val_accuracy: 0.9519\n",
            "Epoch 10/10\n",
            "229/229 [==============================] - 3445s 15s/step - loss: 0.1061 - accuracy: 0.9653 - val_loss: 0.0890 - val_accuracy: 0.9774\n"
          ]
        },
        {
          "data": {
            "text/plain": [
              "<keras.callbacks.History at 0x1ad12e2bdf0>"
            ]
          },
          "execution_count": 26,
          "metadata": {},
          "output_type": "execute_result"
        }
      ],
      "source": [
        "model.fit(train_generator,\n",
        "          steps_per_epoch=train_generator.n // train_generator.batch_size,\n",
        "          epochs=10,\n",
        "          validation_data=val_generator,\n",
        "          validation_steps=val_generator.n // val_generator.batch_size)"
      ]
    },
    {
      "cell_type": "code",
      "execution_count": 30,
      "metadata": {
        "id": "YKFTVpFECoAL"
      },
      "outputs": [],
      "source": [
        "model.save('VGG16.h5')"
      ]
    },
    {
      "cell_type": "code",
      "execution_count": 31,
      "metadata": {
        "colab": {
          "base_uri": "https://localhost:8080/"
        },
        "id": "RVCkcD0xCbEp",
        "outputId": "7f585ff1-9ddf-4ff5-a661-7263f0d24d62"
      },
      "outputs": [
        {
          "name": "stdout",
          "output_type": "stream",
          "text": [
            "Found 1050 images belonging to 21 classes.\n"
          ]
        }
      ],
      "source": [
        "test_datagen = ImageDataGenerator(rescale=1./255)\n",
        "test_generator = test_datagen.flow_from_directory(test_dir,\n",
        "                                                  target_size=(IMAGE_WIDTH, IMAGE_HEIGHT),\n",
        "                                                  batch_size=BATCH_SIZE,\n",
        "                                                  class_mode='categorical',\n",
        "                                                  shuffle=False)\n",
        "\n",
        "predictions = model.predict(test_generator)\n",
        "predicted_classes = np.argmax(predictions, axis=1)\n",
        "\n",
        "true_classes = test_generator.classes\n",
        "class_labels = list(test_generator.class_indices.keys())"
      ]
    },
    {
      "cell_type": "code",
      "execution_count": 33,
      "metadata": {
        "colab": {
          "base_uri": "https://localhost:8080/"
        },
        "id": "NgObRSgACdRe",
        "outputId": "1dd7b0f0-4542-46cc-8cda-c20c0df2ac03"
      },
      "outputs": [
        {
          "name": "stdout",
          "output_type": "stream",
          "text": [
            "Confusion Matrix\n",
            "[[49  0  0  0  0  0  0  0  1  0  0  0  0  0  0  0  0  0  0  0  0]\n",
            " [ 0 50  0  0  0  0  0  0  0  0  0  0  0  0  0  0  0  0  0  0  0]\n",
            " [ 0  0 48  1  0  0  0  0  0  1  0  0  0  0  0  0  0  0  0  0  0]\n",
            " [ 0  0  0 49  0  0  0  0  0  0  0  0  0  0  0  0  1  0  0  0  0]\n",
            " [ 0  0  0  0 48  0  0  0  0  0  0  0  0  0  2  0  0  0  0  0  0]\n",
            " [ 0  0  0  0  0 50  0  0  0  0  0  0  0  0  0  0  0  0  0  0  0]\n",
            " [ 0  0  0  0  2  0 42  0  0  0  0  1  3  2  0  0  0  0  0  0  0]\n",
            " [ 0  0  0  0  0  0  0 49  0  0  0  0  0  0  0  0  1  0  0  0  0]\n",
            " [ 0  0  0  0  0  0  0  0 50  0  0  0  0  0  0  0  0  0  0  0  0]\n",
            " [ 0  0  1  1  0  0  0  0  0 47  0  0  0  0  0  0  1  0  0  0  0]\n",
            " [ 0  0  0  0  0  0  0  0  0  0 49  0  0  0  0  0  0  0  0  1  0]\n",
            " [ 0  0  0  0  0  0  0  0  0  0  0 50  0  0  0  0  0  0  0  0  0]\n",
            " [ 0  0  0  0  1  0  0  0  0  0  0  0 49  0  0  0  0  0  0  0  0]\n",
            " [ 0  0  0  0  1  0  0  0  0  0  0  0  1 46  0  0  0  0  0  2  0]\n",
            " [ 0  0  0  0  0  0  0  0  2  0  0  0  0  0 48  0  0  0  0  0  0]\n",
            " [ 0  0  0  0  0  0  0  0  0  0  0  0  0  0  0 50  0  0  0  0  0]\n",
            " [ 0  0  0  0  0  0  0  0  0  0  0  0  0  0  0  0 50  0  0  0  0]\n",
            " [ 0  0  0  0  0  0  0  0  0  0  0  0  0  0  0  0  0 50  0  0  0]\n",
            " [ 0  0  0  0  0  0  0  0  0  0  0  0  0  0  0  0  1  0 49  0  0]\n",
            " [ 0  0  0  0  0  0  0  0  0  0  0  0  0  0  0  0  0  0  0 50  0]\n",
            " [ 0  0  0  0  0  0  0  0  0  0  0  0  0  0  0  0  1  0  0  0 49]]\n",
            "\n",
            "Classification Report\n",
            "                   precision    recall  f1-score   support\n",
            "\n",
            "     agricultural       1.00      0.98      0.99        50\n",
            "         airplane       1.00      1.00      1.00        50\n",
            "  baseballdiamond       0.98      0.96      0.97        50\n",
            "            beach       0.96      0.98      0.97        50\n",
            "        buildings       0.92      0.96      0.94        50\n",
            "        chaparral       1.00      1.00      1.00        50\n",
            " denseresidential       1.00      0.84      0.91        50\n",
            "           forest       1.00      0.98      0.99        50\n",
            "          freeway       0.94      1.00      0.97        50\n",
            "       golfcourse       0.98      0.94      0.96        50\n",
            "           harbor       1.00      0.98      0.99        50\n",
            "     intersection       0.98      1.00      0.99        50\n",
            "mediumresidential       0.92      0.98      0.95        50\n",
            "   mobilehomepark       0.96      0.92      0.94        50\n",
            "         overpass       0.96      0.96      0.96        50\n",
            "       parkinglot       1.00      1.00      1.00        50\n",
            "            river       0.91      1.00      0.95        50\n",
            "           runway       1.00      1.00      1.00        50\n",
            "sparseresidential       1.00      0.98      0.99        50\n",
            "     storagetanks       0.94      1.00      0.97        50\n",
            "      tenniscourt       1.00      0.98      0.99        50\n",
            "\n",
            "         accuracy                           0.97      1050\n",
            "        macro avg       0.97      0.97      0.97      1050\n",
            "     weighted avg       0.97      0.97      0.97      1050\n",
            "\n"
          ]
        }
      ],
      "source": [
        "print('Confusion Matrix')\n",
        "print(confusion_matrix(true_classes, predicted_classes))\n",
        "\n",
        "print('\\nClassification Report')\n",
        "print(classification_report(true_classes, predicted_classes, target_names=class_labels))"
      ]
    },
    {
      "cell_type": "code",
      "execution_count": 37,
      "metadata": {
        "colab": {
          "base_uri": "https://localhost:8080/"
        },
        "id": "kd-88XlOuN1a",
        "outputId": "a2dea72b-5f53-48ca-b49b-666f582075df"
      },
      "outputs": [
        {
          "name": "stdout",
          "output_type": "stream",
          "text": [
            "F1 Score: 0.973207234628312\n",
            "Precision: 0.9743693759146543\n",
            "Recall: 0.9733333333333334\n"
          ]
        }
      ],
      "source": [
        "f1 = f1_score(true_classes, predicted_classes, average='macro')\n",
        "precision = precision_score(true_classes, predicted_classes, average='macro')\n",
        "recall = recall_score(true_classes, predicted_classes, average='macro')\n",
        "\n",
        "print('F1 Score:', f1)\n",
        "print('Precision:', precision)\n",
        "print('Recall:', recall)"
      ]
    },
    {
      "cell_type": "code",
      "execution_count": 36,
      "metadata": {
        "colab": {
          "base_uri": "https://localhost:8080/"
        },
        "id": "0gp_owbwCg-h",
        "outputId": "14f03381-43b5-4130-a0e9-d6fb210f1cd0"
      },
      "outputs": [
        {
          "name": "stdout",
          "output_type": "stream",
          "text": [
            "\n",
            "Prediction\n",
            "Predicted class name: river\n"
          ]
        }
      ],
      "source": [
        "sample_image_path = 'test image path'\n",
        "sample_image = tf.keras.preprocessing.image.load_img(sample_image_path, target_size=(IMAGE_WIDTH, IMAGE_HEIGHT))\n",
        "sample_image = tf.keras.preprocessing.image.img_to_array(sample_image)\n",
        "sample_image = np.expand_dims(sample_image, axis=0)\n",
        "sample_image = sample_image / 255.0\n",
        "\n",
        "prediction = model.predict(sample_image)\n",
        "predicted_class_index = np.argmax(prediction)\n",
        "predicted_class_name = class_labels[predicted_class_index]\n",
        "\n",
        "print('\\nPrediction')\n",
        "print('Predicted class name:', predicted_class_name)"
      ]
    }
  ],
  "metadata": {
    "accelerator": "GPU",
    "colab": {
      "gpuType": "T4",
      "provenance": []
    },
    "kernelspec": {
      "display_name": "Python 3",
      "name": "python3"
    },
    "language_info": {
      "name": "python"
    }
  },
  "nbformat": 4,
  "nbformat_minor": 0
}
